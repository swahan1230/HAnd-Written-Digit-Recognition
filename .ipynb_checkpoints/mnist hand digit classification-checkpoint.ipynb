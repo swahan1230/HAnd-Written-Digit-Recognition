{
 "cells": [
  {
   "cell_type": "code",
   "execution_count": 2,
   "id": "aa6cf9b9-c539-444a-9ca1-aa61e0bba190",
   "metadata": {},
   "outputs": [
    {
     "name": "stdout",
     "output_type": "stream",
     "text": [
      "(60000, 28, 28) (60000,)\n"
     ]
    }
   ],
   "source": [
    "import keras\n",
    "from keras.datasets import mnist\n",
    "from keras.models import Sequential\n",
    "from keras.layers import Dense, Dropout, Flatten\n",
    "from keras.layers import Conv2D, MaxPooling2D\n",
    "from keras import backend as K\n",
    "from keras.utils.np_utils import to_categorical\n",
    "from keras.preprocessing.image import ImageDataGenerator\n",
    "# the data, split between train and test sets\n",
    "(x_train, y_train), (x_test, y_test) = mnist.load_data()\n",
    "\n",
    "print(x_train.shape, y_train.shape)"
   ]
  },
  {
   "cell_type": "code",
   "execution_count": 4,
   "id": "aeb762be-abcf-437f-833a-893a6339a978",
   "metadata": {},
   "outputs": [
    {
     "name": "stdout",
     "output_type": "stream",
     "text": [
      "2.5.0\n"
     ]
    }
   ],
   "source": [
    "print(keras.__version__)"
   ]
  },
  {
   "cell_type": "code",
   "execution_count": 5,
   "id": "fefb20b4-1b63-468b-bd4c-8967127cbb2a",
   "metadata": {},
   "outputs": [],
   "source": [
    "batch_size = 128\n",
    "num_classes = 10\n",
    "epochs = 10\n"
   ]
  },
  {
   "cell_type": "code",
   "execution_count": 7,
   "id": "11c4f59c-93d3-416c-8613-66fea0689ed0",
   "metadata": {},
   "outputs": [
    {
     "data": {
      "text/plain": [
       "\"x_train = x_train.astype('float32')\\nx_test = x_test.astype('float32')\\nx_train /= 255\\nx_test /= 255\\nprint('x_train shape:', x_train.shape)\\nprint(x_train.shape[0], 'train samples')\\nprint(x_test.shape[0], 'test samples')\""
      ]
     },
     "execution_count": 7,
     "metadata": {},
     "output_type": "execute_result"
    }
   ],
   "source": [
    "x_train = x_train.reshape(x_train.shape[0], 28, 28, 1)\n",
    "x_test = x_test.reshape(x_test.shape[0], 28, 28, 1)\n",
    "input_shape = (28, 28, 1)\n",
    "\n",
    "dataGen=ImageDataGenerator(width_shift_range=0.1,\n",
    "                          height_shift_range=0.1,\n",
    "                          zoom_range=0.2,\n",
    "                          shear_range=0.1,\n",
    "                          rotation_range=10)\n",
    "dataGen.fit(x_train)\n",
    "\n",
    "# convert class vectors to binary class matrices\n",
    "y_train =to_categorical(y_train, num_classes)\n",
    "y_test = to_categorical(y_test, num_classes)\n",
    "\n",
    "'''x_train = x_train.astype('float32')\n",
    "x_test = x_test.astype('float32')\n",
    "x_train /= 255\n",
    "x_test /= 255\n",
    "print('x_train shape:', x_train.shape)\n",
    "print(x_train.shape[0], 'train samples')\n",
    "print(x_test.shape[0], 'test samples')'''"
   ]
  },
  {
   "cell_type": "code",
   "execution_count": 31,
   "id": "a071ab73-aa7c-4c44-9814-42401814c3cb",
   "metadata": {},
   "outputs": [],
   "source": [
    "\n",
    "model = Sequential()\n",
    "model.add(Conv2D(64, kernel_size=(3, 3),activation='relu',input_shape=input_shape))\n",
    "model.add(Conv2D(64, (3, 3), activation='relu'))\n",
    "model.add(MaxPooling2D(pool_size=(2, 2)))\n",
    "model.add(Dropout(0.25))\n",
    "model.add(Flatten())\n",
    "model.add(Dense(256, activation='relu'))\n",
    "model.add(Dropout(0.5))\n",
    "model.add(Dense(num_classes, activation='softmax'))\n",
    "\n",
    "model.compile(loss=keras.losses.categorical_crossentropy,optimizer=\"adam\",metrics=['accuracy'])"
   ]
  },
  {
   "cell_type": "code",
   "execution_count": 32,
   "id": "c782e23a-648f-4589-8cfd-211468317a82",
   "metadata": {},
   "outputs": [
    {
     "name": "stdout",
     "output_type": "stream",
     "text": [
      "Model: \"sequential_1\"\n",
      "_________________________________________________________________\n",
      "Layer (type)                 Output Shape              Param #   \n",
      "=================================================================\n",
      "conv2d_2 (Conv2D)            (None, 26, 26, 64)        640       \n",
      "_________________________________________________________________\n",
      "conv2d_3 (Conv2D)            (None, 24, 24, 64)        36928     \n",
      "_________________________________________________________________\n",
      "max_pooling2d_1 (MaxPooling2 (None, 12, 12, 64)        0         \n",
      "_________________________________________________________________\n",
      "dropout_2 (Dropout)          (None, 12, 12, 64)        0         \n",
      "_________________________________________________________________\n",
      "flatten_1 (Flatten)          (None, 9216)              0         \n",
      "_________________________________________________________________\n",
      "dense_2 (Dense)              (None, 256)               2359552   \n",
      "_________________________________________________________________\n",
      "dropout_3 (Dropout)          (None, 256)               0         \n",
      "_________________________________________________________________\n",
      "dense_3 (Dense)              (None, 10)                2570      \n",
      "=================================================================\n",
      "Total params: 2,399,690\n",
      "Trainable params: 2,399,690\n",
      "Non-trainable params: 0\n",
      "_________________________________________________________________\n"
     ]
    }
   ],
   "source": [
    "model.summary()"
   ]
  },
  {
   "cell_type": "code",
   "execution_count": 33,
   "id": "1470f9bb-c625-43bc-8815-ccc664538772",
   "metadata": {},
   "outputs": [
    {
     "name": "stdout",
     "output_type": "stream",
     "text": [
      "Epoch 1/100\n",
      "600/600 [==============================] - 16s 24ms/step - loss: 3.5609 - accuracy: 0.6644 - val_loss: 0.0720 - val_accuracy: 0.9760\n",
      "Epoch 2/100\n",
      "600/600 [==============================] - 14s 24ms/step - loss: 0.2660 - accuracy: 0.9195 - val_loss: 0.0666 - val_accuracy: 0.9781\n",
      "Epoch 3/100\n",
      "600/600 [==============================] - 14s 24ms/step - loss: 0.2052 - accuracy: 0.9382 - val_loss: 0.0498 - val_accuracy: 0.9845\n",
      "Epoch 4/100\n",
      "600/600 [==============================] - 15s 24ms/step - loss: 0.1778 - accuracy: 0.9455 - val_loss: 0.0461 - val_accuracy: 0.9851\n",
      "Epoch 5/100\n",
      "600/600 [==============================] - 15s 26ms/step - loss: 0.1697 - accuracy: 0.9494 - val_loss: 0.0405 - val_accuracy: 0.9879\n",
      "Epoch 6/100\n",
      "600/600 [==============================] - 15s 26ms/step - loss: 0.1607 - accuracy: 0.9512 - val_loss: 0.0406 - val_accuracy: 0.9870\n",
      "Epoch 7/100\n",
      "600/600 [==============================] - 16s 26ms/step - loss: 0.1445 - accuracy: 0.9568 - val_loss: 0.0337 - val_accuracy: 0.9885\n",
      "Epoch 8/100\n",
      "600/600 [==============================] - 16s 26ms/step - loss: 0.1316 - accuracy: 0.9596 - val_loss: 0.0321 - val_accuracy: 0.9890\n",
      "Epoch 9/100\n",
      "600/600 [==============================] - 16s 27ms/step - loss: 0.1304 - accuracy: 0.9611 - val_loss: 0.0347 - val_accuracy: 0.9887\n",
      "Epoch 10/100\n",
      "600/600 [==============================] - 16s 27ms/step - loss: 0.1223 - accuracy: 0.9630 - val_loss: 0.0342 - val_accuracy: 0.9880\n",
      "Epoch 11/100\n",
      "600/600 [==============================] - 16s 26ms/step - loss: 0.1193 - accuracy: 0.9659 - val_loss: 0.0357 - val_accuracy: 0.9896\n",
      "Epoch 12/100\n",
      "600/600 [==============================] - 15s 26ms/step - loss: 0.1152 - accuracy: 0.9656 - val_loss: 0.0264 - val_accuracy: 0.9914\n",
      "Epoch 13/100\n",
      "600/600 [==============================] - 16s 27ms/step - loss: 0.1124 - accuracy: 0.9641 - val_loss: 0.0247 - val_accuracy: 0.9919\n",
      "Epoch 14/100\n",
      "600/600 [==============================] - 16s 27ms/step - loss: 0.1127 - accuracy: 0.9664 - val_loss: 0.0267 - val_accuracy: 0.9915\n",
      "Epoch 15/100\n",
      "600/600 [==============================] - 17s 28ms/step - loss: 0.1016 - accuracy: 0.9693 - val_loss: 0.0249 - val_accuracy: 0.9916\n",
      "Epoch 16/100\n",
      "600/600 [==============================] - 17s 28ms/step - loss: 0.1014 - accuracy: 0.9708 - val_loss: 0.0219 - val_accuracy: 0.9932\n",
      "Epoch 17/100\n",
      "600/600 [==============================] - 17s 28ms/step - loss: 0.0996 - accuracy: 0.9702 - val_loss: 0.0247 - val_accuracy: 0.9921\n",
      "Epoch 18/100\n",
      "600/600 [==============================] - 19s 31ms/step - loss: 0.0897 - accuracy: 0.9726 - val_loss: 0.0239 - val_accuracy: 0.9923\n",
      "Epoch 19/100\n",
      "600/600 [==============================] - 19s 31ms/step - loss: 0.0920 - accuracy: 0.9718 - val_loss: 0.0217 - val_accuracy: 0.9925\n",
      "Epoch 20/100\n",
      "600/600 [==============================] - 18s 30ms/step - loss: 0.0944 - accuracy: 0.9720 - val_loss: 0.0253 - val_accuracy: 0.9921\n",
      "Epoch 21/100\n",
      "600/600 [==============================] - 18s 30ms/step - loss: 0.0897 - accuracy: 0.9732 - val_loss: 0.0255 - val_accuracy: 0.9924\n",
      "Epoch 22/100\n",
      "600/600 [==============================] - 20s 33ms/step - loss: 0.0843 - accuracy: 0.9759 - val_loss: 0.0277 - val_accuracy: 0.9922\n",
      "Epoch 23/100\n",
      "600/600 [==============================] - 20s 33ms/step - loss: 0.0883 - accuracy: 0.9734 - val_loss: 0.0236 - val_accuracy: 0.9927\n",
      "Epoch 24/100\n",
      "600/600 [==============================] - 20s 33ms/step - loss: 0.0862 - accuracy: 0.9746 - val_loss: 0.0224 - val_accuracy: 0.9930\n",
      "Epoch 25/100\n",
      "600/600 [==============================] - 19s 32ms/step - loss: 0.0837 - accuracy: 0.9755 - val_loss: 0.0243 - val_accuracy: 0.9919\n",
      "Epoch 26/100\n",
      "600/600 [==============================] - 20s 33ms/step - loss: 0.0798 - accuracy: 0.9761 - val_loss: 0.0225 - val_accuracy: 0.9933\n",
      "Epoch 27/100\n",
      "600/600 [==============================] - 16s 27ms/step - loss: 0.0844 - accuracy: 0.9751 - val_loss: 0.0234 - val_accuracy: 0.9932\n",
      "Epoch 28/100\n",
      "600/600 [==============================] - 17s 28ms/step - loss: 0.0846 - accuracy: 0.9752 - val_loss: 0.0249 - val_accuracy: 0.9924\n",
      "Epoch 29/100\n",
      "600/600 [==============================] - 16s 27ms/step - loss: 0.0890 - accuracy: 0.9738 - val_loss: 0.0297 - val_accuracy: 0.9926\n",
      "Epoch 30/100\n",
      "600/600 [==============================] - 16s 27ms/step - loss: 0.0789 - accuracy: 0.9771 - val_loss: 0.0209 - val_accuracy: 0.9938\n",
      "Epoch 31/100\n",
      "600/600 [==============================] - 18s 29ms/step - loss: 0.0812 - accuracy: 0.9758 - val_loss: 0.0243 - val_accuracy: 0.9930\n",
      "Epoch 32/100\n",
      "600/600 [==============================] - 17s 29ms/step - loss: 0.0777 - accuracy: 0.9772 - val_loss: 0.0236 - val_accuracy: 0.9930\n",
      "Epoch 33/100\n",
      "600/600 [==============================] - 18s 29ms/step - loss: 0.0778 - accuracy: 0.9770 - val_loss: 0.0356 - val_accuracy: 0.9915\n",
      "Epoch 34/100\n",
      "600/600 [==============================] - 17s 29ms/step - loss: 0.0770 - accuracy: 0.9773 - val_loss: 0.0216 - val_accuracy: 0.9937\n",
      "Epoch 35/100\n",
      "600/600 [==============================] - 17s 29ms/step - loss: 0.0721 - accuracy: 0.9782 - val_loss: 0.0216 - val_accuracy: 0.9934\n",
      "Epoch 36/100\n",
      "600/600 [==============================] - 17s 29ms/step - loss: 0.0736 - accuracy: 0.9778 - val_loss: 0.0250 - val_accuracy: 0.9932\n",
      "Epoch 37/100\n",
      "600/600 [==============================] - 17s 28ms/step - loss: 0.0730 - accuracy: 0.9793 - val_loss: 0.0185 - val_accuracy: 0.9938\n",
      "Epoch 38/100\n",
      "600/600 [==============================] - 18s 30ms/step - loss: 0.0715 - accuracy: 0.9785 - val_loss: 0.0256 - val_accuracy: 0.9922\n",
      "Epoch 39/100\n",
      "600/600 [==============================] - 17s 29ms/step - loss: 0.0726 - accuracy: 0.9788 - val_loss: 0.0257 - val_accuracy: 0.9930\n",
      "Epoch 40/100\n",
      "600/600 [==============================] - 17s 29ms/step - loss: 0.0748 - accuracy: 0.9781 - val_loss: 0.0226 - val_accuracy: 0.9927\n",
      "Epoch 41/100\n",
      "600/600 [==============================] - 17s 29ms/step - loss: 0.0704 - accuracy: 0.9794 - val_loss: 0.0249 - val_accuracy: 0.9927\n",
      "Epoch 42/100\n",
      "600/600 [==============================] - 18s 29ms/step - loss: 0.0702 - accuracy: 0.9799 - val_loss: 0.0199 - val_accuracy: 0.9935\n",
      "Epoch 43/100\n",
      "600/600 [==============================] - 17s 29ms/step - loss: 0.0682 - accuracy: 0.9794 - val_loss: 0.0258 - val_accuracy: 0.9925\n",
      "Epoch 44/100\n",
      "600/600 [==============================] - 16s 27ms/step - loss: 0.0782 - accuracy: 0.9764 - val_loss: 0.0350 - val_accuracy: 0.9898\n",
      "Epoch 45/100\n",
      "600/600 [==============================] - 16s 27ms/step - loss: 0.0714 - accuracy: 0.9793 - val_loss: 0.0186 - val_accuracy: 0.9932\n",
      "Epoch 46/100\n",
      "600/600 [==============================] - 16s 27ms/step - loss: 0.0699 - accuracy: 0.9802 - val_loss: 0.0264 - val_accuracy: 0.9939\n",
      "Epoch 47/100\n",
      "600/600 [==============================] - 17s 28ms/step - loss: 0.0672 - accuracy: 0.9801 - val_loss: 0.0197 - val_accuracy: 0.9937\n",
      "Epoch 48/100\n",
      "600/600 [==============================] - 16s 27ms/step - loss: 0.0678 - accuracy: 0.9801 - val_loss: 0.0243 - val_accuracy: 0.9930\n",
      "Epoch 49/100\n",
      "600/600 [==============================] - 17s 27ms/step - loss: 0.0670 - accuracy: 0.9802 - val_loss: 0.0208 - val_accuracy: 0.9942\n",
      "Epoch 50/100\n",
      "600/600 [==============================] - 17s 28ms/step - loss: 0.0713 - accuracy: 0.9797 - val_loss: 0.0237 - val_accuracy: 0.9939\n",
      "Epoch 51/100\n",
      "600/600 [==============================] - 17s 28ms/step - loss: 0.0651 - accuracy: 0.9811 - val_loss: 0.0254 - val_accuracy: 0.9930\n",
      "Epoch 52/100\n",
      "600/600 [==============================] - 17s 28ms/step - loss: 0.0700 - accuracy: 0.9796 - val_loss: 0.0212 - val_accuracy: 0.9935\n",
      "Epoch 53/100\n",
      "600/600 [==============================] - 17s 29ms/step - loss: 0.0681 - accuracy: 0.9799 - val_loss: 0.0224 - val_accuracy: 0.9922\n",
      "Epoch 54/100\n",
      "600/600 [==============================] - 17s 29ms/step - loss: 0.0767 - accuracy: 0.9786 - val_loss: 0.0218 - val_accuracy: 0.9938\n",
      "Epoch 55/100\n",
      "600/600 [==============================] - 17s 28ms/step - loss: 0.0756 - accuracy: 0.9776 - val_loss: 0.0179 - val_accuracy: 0.9941\n",
      "Epoch 56/100\n",
      "600/600 [==============================] - 17s 28ms/step - loss: 0.0671 - accuracy: 0.9798 - val_loss: 0.0206 - val_accuracy: 0.9941\n",
      "Epoch 57/100\n",
      "600/600 [==============================] - 17s 28ms/step - loss: 0.0670 - accuracy: 0.9801 - val_loss: 0.0277 - val_accuracy: 0.9918\n",
      "Epoch 58/100\n",
      "600/600 [==============================] - 17s 29ms/step - loss: 0.0702 - accuracy: 0.9794 - val_loss: 0.0333 - val_accuracy: 0.9908\n",
      "Epoch 59/100\n",
      "600/600 [==============================] - 17s 28ms/step - loss: 0.0649 - accuracy: 0.9810 - val_loss: 0.0284 - val_accuracy: 0.9908\n",
      "Epoch 60/100\n",
      "600/600 [==============================] - 17s 29ms/step - loss: 0.0695 - accuracy: 0.9791 - val_loss: 0.0254 - val_accuracy: 0.9943\n",
      "Epoch 61/100\n",
      "600/600 [==============================] - 17s 29ms/step - loss: 0.0747 - accuracy: 0.9791 - val_loss: 0.0224 - val_accuracy: 0.9933\n",
      "Epoch 62/100\n",
      "600/600 [==============================] - 17s 29ms/step - loss: 0.0723 - accuracy: 0.9798 - val_loss: 0.0365 - val_accuracy: 0.9911\n",
      "Epoch 63/100\n",
      "600/600 [==============================] - 17s 28ms/step - loss: 0.0647 - accuracy: 0.9805 - val_loss: 0.0187 - val_accuracy: 0.9943\n",
      "Epoch 64/100\n",
      "600/600 [==============================] - 17s 29ms/step - loss: 0.0622 - accuracy: 0.9811 - val_loss: 0.0220 - val_accuracy: 0.9938\n",
      "Epoch 65/100\n",
      "600/600 [==============================] - 17s 28ms/step - loss: 0.0696 - accuracy: 0.9801 - val_loss: 0.0262 - val_accuracy: 0.9926\n",
      "Epoch 66/100\n",
      "600/600 [==============================] - 17s 28ms/step - loss: 0.0735 - accuracy: 0.9797 - val_loss: 0.0202 - val_accuracy: 0.9941\n",
      "Epoch 67/100\n",
      "600/600 [==============================] - 17s 28ms/step - loss: 0.0651 - accuracy: 0.9811 - val_loss: 0.0228 - val_accuracy: 0.9929\n",
      "Epoch 68/100\n",
      "600/600 [==============================] - 17s 28ms/step - loss: 0.0644 - accuracy: 0.9808 - val_loss: 0.0273 - val_accuracy: 0.9918\n",
      "Epoch 69/100\n",
      "600/600 [==============================] - 17s 28ms/step - loss: 0.0726 - accuracy: 0.9791 - val_loss: 0.0237 - val_accuracy: 0.9933\n",
      "Epoch 70/100\n",
      "600/600 [==============================] - 17s 29ms/step - loss: 0.0656 - accuracy: 0.9817 - val_loss: 0.0201 - val_accuracy: 0.9944\n",
      "Epoch 71/100\n",
      "600/600 [==============================] - 17s 29ms/step - loss: 0.0655 - accuracy: 0.9804 - val_loss: 0.0225 - val_accuracy: 0.9936\n",
      "Epoch 72/100\n",
      "600/600 [==============================] - 17s 28ms/step - loss: 0.0686 - accuracy: 0.9800 - val_loss: 0.0204 - val_accuracy: 0.9937\n",
      "Epoch 73/100\n",
      "600/600 [==============================] - 17s 28ms/step - loss: 0.0658 - accuracy: 0.9810 - val_loss: 0.0251 - val_accuracy: 0.9938\n",
      "Epoch 74/100\n",
      "600/600 [==============================] - 17s 29ms/step - loss: 0.0628 - accuracy: 0.9818 - val_loss: 0.0259 - val_accuracy: 0.9928\n",
      "Epoch 75/100\n",
      "600/600 [==============================] - 17s 28ms/step - loss: 0.0639 - accuracy: 0.9807 - val_loss: 0.0223 - val_accuracy: 0.9928\n",
      "Epoch 76/100\n",
      "600/600 [==============================] - 17s 29ms/step - loss: 0.0617 - accuracy: 0.9811 - val_loss: 0.0265 - val_accuracy: 0.9929\n",
      "Epoch 77/100\n",
      "600/600 [==============================] - 18s 30ms/step - loss: 0.0720 - accuracy: 0.9790 - val_loss: 0.0204 - val_accuracy: 0.9933\n",
      "Epoch 78/100\n",
      "600/600 [==============================] - 20s 33ms/step - loss: 0.0648 - accuracy: 0.9818 - val_loss: 0.0221 - val_accuracy: 0.9941\n",
      "Epoch 79/100\n",
      "600/600 [==============================] - 17s 28ms/step - loss: 0.0620 - accuracy: 0.9817 - val_loss: 0.0231 - val_accuracy: 0.9928\n",
      "Epoch 80/100\n",
      "600/600 [==============================] - 17s 28ms/step - loss: 0.0630 - accuracy: 0.9808 - val_loss: 0.0249 - val_accuracy: 0.9932\n",
      "Epoch 81/100\n",
      "600/600 [==============================] - 17s 28ms/step - loss: 0.0706 - accuracy: 0.9799 - val_loss: 0.0196 - val_accuracy: 0.9945\n",
      "Epoch 82/100\n",
      "600/600 [==============================] - 18s 30ms/step - loss: 0.0659 - accuracy: 0.9806 - val_loss: 0.0279 - val_accuracy: 0.9925\n",
      "Epoch 83/100\n",
      "600/600 [==============================] - 18s 31ms/step - loss: 0.0673 - accuracy: 0.9808 - val_loss: 0.0303 - val_accuracy: 0.9921\n",
      "Epoch 84/100\n",
      "600/600 [==============================] - 18s 30ms/step - loss: 0.0639 - accuracy: 0.9812 - val_loss: 0.0214 - val_accuracy: 0.9938\n",
      "Epoch 85/100\n",
      "600/600 [==============================] - 18s 31ms/step - loss: 0.0667 - accuracy: 0.9804 - val_loss: 0.0250 - val_accuracy: 0.9928\n",
      "Epoch 86/100\n",
      "600/600 [==============================] - 18s 30ms/step - loss: 0.0659 - accuracy: 0.9808 - val_loss: 0.0248 - val_accuracy: 0.9935\n",
      "Epoch 87/100\n",
      "600/600 [==============================] - 18s 31ms/step - loss: 0.0623 - accuracy: 0.9817 - val_loss: 0.0237 - val_accuracy: 0.9931\n",
      "Epoch 88/100\n",
      "600/600 [==============================] - 18s 31ms/step - loss: 0.0648 - accuracy: 0.9810 - val_loss: 0.0256 - val_accuracy: 0.9933\n",
      "Epoch 89/100\n",
      "600/600 [==============================] - 19s 31ms/step - loss: 0.0664 - accuracy: 0.9813 - val_loss: 0.0224 - val_accuracy: 0.9945\n",
      "Epoch 90/100\n",
      "600/600 [==============================] - 18s 30ms/step - loss: 0.0647 - accuracy: 0.9813 - val_loss: 0.0174 - val_accuracy: 0.9948\n",
      "Epoch 91/100\n",
      "600/600 [==============================] - 18s 31ms/step - loss: 0.0655 - accuracy: 0.9814 - val_loss: 0.0259 - val_accuracy: 0.9929\n",
      "Epoch 92/100\n",
      "600/600 [==============================] - 18s 30ms/step - loss: 0.0667 - accuracy: 0.9811 - val_loss: 0.0199 - val_accuracy: 0.9940\n",
      "Epoch 93/100\n",
      "600/600 [==============================] - 18s 30ms/step - loss: 0.0645 - accuracy: 0.9825 - val_loss: 0.0258 - val_accuracy: 0.9935\n",
      "Epoch 94/100\n",
      "600/600 [==============================] - 18s 30ms/step - loss: 0.0624 - accuracy: 0.9823 - val_loss: 0.0194 - val_accuracy: 0.9943\n",
      "Epoch 95/100\n",
      "600/600 [==============================] - 18s 31ms/step - loss: 0.0653 - accuracy: 0.9815 - val_loss: 0.0178 - val_accuracy: 0.9939\n",
      "Epoch 96/100\n",
      "600/600 [==============================] - 18s 31ms/step - loss: 0.0637 - accuracy: 0.9813 - val_loss: 0.0204 - val_accuracy: 0.9941\n",
      "Epoch 97/100\n",
      "600/600 [==============================] - 19s 32ms/step - loss: 0.0674 - accuracy: 0.9805 - val_loss: 0.0243 - val_accuracy: 0.9940\n",
      "Epoch 98/100\n",
      "600/600 [==============================] - 18s 31ms/step - loss: 0.0650 - accuracy: 0.9806 - val_loss: 0.0255 - val_accuracy: 0.9938\n",
      "Epoch 99/100\n",
      "600/600 [==============================] - 18s 30ms/step - loss: 0.0653 - accuracy: 0.9812 - val_loss: 0.0241 - val_accuracy: 0.9944\n",
      "Epoch 100/100\n",
      "600/600 [==============================] - 19s 31ms/step - loss: 0.0628 - accuracy: 0.9821 - val_loss: 0.0246 - val_accuracy: 0.9934\n"
     ]
    }
   ],
   "source": [
    "hist=model.fit(dataGen.flow(x_train,y_train,batch_size=100),epochs=100,\n",
    "                   validation_data=(x_test, y_test),shuffle=1)"
   ]
  },
  {
   "cell_type": "code",
   "execution_count": null,
   "id": "72d0a7af-e340-474d-bc51-de7cd6e64a0d",
   "metadata": {},
   "outputs": [],
   "source": [
    "hist = model.fit(x_train, y_train,batch_size=batch_size,epochs=epochs,verbose=1,validation_data=(x_test, y_test))\n",
    "print(\"The model has successfully trained\")\n",
    "\n",
    "model.save('mnist.h5')\n",
    "print(\"Saving the model as mnist.h5\")"
   ]
  },
  {
   "cell_type": "code",
   "execution_count": 34,
   "id": "b2a8af7f-ab2b-4b5a-bbc6-5e8a022d8c97",
   "metadata": {},
   "outputs": [
    {
     "name": "stdout",
     "output_type": "stream",
     "text": [
      "Test loss: 0.024567697197198868\n",
      "Test accuracy: 0.993399977684021\n"
     ]
    }
   ],
   "source": [
    "score = model.evaluate(x_test, y_test, verbose=0)\n",
    "print('Test loss:', score[0])\n",
    "print('Test accuracy:', score[1])"
   ]
  },
  {
   "cell_type": "code",
   "execution_count": 35,
   "id": "abcaa0db-0ef4-4e0c-896a-8a1fdae1c75c",
   "metadata": {},
   "outputs": [
    {
     "data": {
      "image/png": "[encoded data removed]",
      "text/plain": [
       "<Figure size 432x288 with 1 Axes>"
      ]
     },
     "metadata": {
      "needs_background": "light"
     },
     "output_type": "display_data"
    },
    {
     "data": {
      "image/png": "[encoded data removed]",
      "text/plain": [
       "<Figure size 432x288 with 1 Axes>"
      ]
     },
     "metadata": {
      "needs_background": "light"
     },
     "output_type": "display_data"
    }
   ],
   "source": [
    "import matplotlib.pyplot as plt\n",
    "plt.figure(1)\n",
    "plt.plot(hist.history['loss'])\n",
    "plt.plot(hist.history['val_loss'])\n",
    "plt.legend(['training','validation'])\n",
    "plt.title('loss')\n",
    "plt.xlabel('epoch')\n",
    "plt.figure(2)\n",
    "plt.plot(hist.history['accuracy'])\n",
    "plt.plot(hist.history['val_accuracy'])\n",
    "plt.legend(['training','validation'])\n",
    "plt.title('accuracy')\n",
    "plt.xlabel('epoch')\n",
    "plt.show()"
   ]
  },
  {
   "cell_type": "code",
   "execution_count": 36,
   "id": "af28e9fa-e26c-4be3-8cb0-242cfc807227",
   "metadata": {},
   "outputs": [
    {
     "name": "stdout",
     "output_type": "stream",
     "text": [
      "Saving the model as HWDR.h5\n"
     ]
    }
   ],
   "source": [
    "model.save('HWDR.h5')\n",
    "print(\"Saving the model as HWDR.h5\")"
   ]
  },
  {
   "cell_type": "code",
   "execution_count": 62,
   "id": "c4722742-43a0-40ed-ace6-bb8f2cc9339f",
   "metadata": {},
   "outputs": [],
   "source": [
    "from keras.models import load_model\n",
    "from tkinter import *\n",
    "import tkinter as tk\n",
    "import win32gui\n",
    "from PIL import ImageGrab, Image, ImageOps\n",
    "import numpy as np\n",
    "\n",
    "model = load_model('mnist.h5')\n",
    "\n",
    "def predict_digit(img):\n",
    "    #img=img.crop((50,50,300,300))\n",
    "    #img.show()\n",
    "    #resize image to 28x28 pixels\n",
    "    img = img.resize((28,28))\n",
    "    #convert rgb to grayscale\n",
    "    img=ImageOps.invert(img)\n",
    "    \n",
    "    img = img.convert('L')\n",
    "    #img.show()\n",
    "    img = np.array(img)\n",
    "    #reshaping to support our model input and normalizing\n",
    "    img = img.reshape(1,28,28,1)\n",
    "    img = img/255.0\n",
    "    #predicting the class\n",
    "    res = model.predict([img])[0]\n",
    "    return np.argmax(res), max(res)\n",
    "\n",
    "class App(tk.Tk):\n",
    "    def __init__(self):\n",
    "        tk.Tk.__init__(self)\n",
    "\n",
    "        self.x = self.y = 0\n",
    "\n",
    "        # Creating elements\n",
    "        self.canvas = tk.Canvas(self, width=250, height=250, bg = \"white\", cursor=\"cross\")\n",
    "        self.label = tk.Label(self, text=\"Thinking..\", font=(\"Helvetica\", 48))\n",
    "        self.classify_btn = tk.Button(self, text = \"Recognise\", command =         self.classify_handwriting) \n",
    "        self.button_clear = tk.Button(self, text = \"Clear\", command = self.clear_all)\n",
    "\n",
    "        # Grid structure\n",
    "        self.canvas.grid(row=0, column=0, pady=2, sticky=W, )\n",
    "        self.label.grid(row=0, column=1,pady=2, padx=2)\n",
    "        self.classify_btn.grid(row=1, column=1, pady=2, padx=2)\n",
    "        self.button_clear.grid(row=1, column=0, pady=2)\n",
    "\n",
    "        #self.canvas.bind(\"<Motion>\", self.start_pos)\n",
    "        self.canvas.bind(\"<B1-Motion>\", self.draw_lines)\n",
    "\n",
    "    def clear_all(self):\n",
    "        self.canvas.delete(\"all\")\n",
    "\n",
    "    def classify_handwriting(self):\n",
    "        HWND = self.canvas.winfo_id() # get the handle of the canvas\n",
    "        rect = win32gui.GetWindowRect(HWND) # get the coordinate of the canvas\n",
    "        x=rect[0]+40\n",
    "        y=rect[1]+40\n",
    "        im = ImageGrab.grab((x,y,x+300,y+300))\n",
    "        #im.show()\n",
    "        digit, acc = predict_digit(im)\n",
    "        self.label.configure(text= str(digit)+', '+ str(int(acc*100))+'%')\n",
    "\n",
    "    def draw_lines(self, event):\n",
    "        self.x = event.x\n",
    "        self.y = event.y\n",
    "        r=12\n",
    "        self.canvas.create_oval(self.x-r, self.y-r, self.x + r, self.y + r, fill='black')\n",
    "\n",
    "app = App()\n",
    "mainloop()"
   ]
  },
  {
   "cell_type": "code",
   "execution_count": 61,
   "id": "8319202f-bbee-4267-8c75-ee6299b0206f",
   "metadata": {},
   "outputs": [],
   "source": [
    "import cv2\n",
    "import numpy as np\n",
    "import pickle\n",
    "from PIL import ImageOps\n",
    "from keras.models import load_model\n",
    "\n",
    "width=640\n",
    "height=480\n",
    "threshold=0.1\n",
    "\n",
    "cap=cv2.VideoCapture(0)\n",
    "cap.set(3,width)\n",
    "cap.set(4,height)\n",
    "model = load_model('mnist.h5')\n",
    "\n",
    "def preprocessing(img):\n",
    "    img=cv2.cvtColor(img,cv2.COLOR_BGR2GRAY)\n",
    "    img=cv2.equalizeHist(img)\n",
    "    img=img/255\n",
    "    return img\n",
    "\n",
    "while True:\n",
    "    _,imgOriginal=cap.read()\n",
    "    img=np.array(imgOriginal)\n",
    "    img=cv2.resize(img,(28,28))\n",
    "    img=preprocessing(img)\n",
    "    img=img.reshape(1,28,28,1)\n",
    "    #predict\n",
    "    classindex=int(model.predict_classes(img))\n",
    "    pred=model.predict(img)\n",
    "    probVal=np.amax(pred)\n",
    "    \n",
    "    if probVal>threshold:\n",
    "        cv2.putText(imgOriginal,str(classindex)+' '+str(probVal),(50,50),cv2.FONT_HERSHEY_COMPLEX,1,(0,0,255),1)\n",
    "        \n",
    "    cv2.imshow('orig',imgOriginal)\n",
    "    \n",
    "    if cv2.waitKey(1) & 0xFF==ord('q'):\n",
    "        break\n",
    "        "
   ]
  },
  {
   "cell_type": "code",
   "execution_count": null,
   "id": "2d536f16-5b04-4cb2-92d5-62fb4ade7aff",
   "metadata": {},
   "outputs": [],
   "source": []
  }
 ],
 "metadata": {
  "kernelspec": {
   "display_name": "Python 3 (ipykernel)",
   "language": "python",
   "name": "python3"
  },
  "language_info": {
   "codemirror_mode": {
    "name": "ipython",
    "version": 3
   },
   "file_extension": ".py",
   "mimetype": "text/x-python",
   "name": "python",
   "nbconvert_exporter": "python",
   "pygments_lexer": "ipython3",
   "version": "3.8.3"
  }
 },
 "nbformat": 4,
 "nbformat_minor": 5
}
